{
  "nbformat": 4,
  "nbformat_minor": 0,
  "metadata": {
    "colab": {
      "name": "Untitled0.ipynb",
      "provenance": [],
      "collapsed_sections": []
    },
    "kernelspec": {
      "name": "python3",
      "display_name": "Python 3"
    },
    "language_info": {
      "name": "python"
    }
  },
  "cells": [
    {
      "cell_type": "markdown",
      "metadata": {
        "id": "Vg3spQte5QNx"
      },
      "source": [
        "Code Written by Nidhi Rajkotia intially and later modified by Nidhi Rajkotia and Prashant Dhameja\n"
      ]
    },
    {
      "cell_type": "code",
      "metadata": {
        "id": "eOBasWHY5O8D"
      },
      "source": [
        "import numpy as np\n",
        "import matplotlib.pyplot as plt"
      ],
      "execution_count": null,
      "outputs": []
    },
    {
      "cell_type": "code",
      "metadata": {
        "id": "l2QQHi4c5Uwc"
      },
      "source": [
        "class Grid: # Environment\n",
        "  def __init__(self, width, height, start, actions, rewards, obey_prob=0.8):\n",
        "    # i is vertical axis, j is horizontal\n",
        "    self.width = width\n",
        "    self.height = height\n",
        "    self.i = start[0]\n",
        "    self.j = start[1]\n",
        "    self.start = start\n",
        "    self.actions = actions\n",
        "    self.rewards = rewards\n",
        "    self.obey_prob = obey_prob\n",
        "\n",
        "  def non_terminal_states(self):\n",
        "    return self.actions.keys()\n",
        "\n",
        "  def resetToStart(self):\n",
        "    self.set_state(self.start)\n",
        "\n",
        "  def set_state(self, s):\n",
        "    self.i = s[0]\n",
        "    self.j = s[1]\n",
        "\n",
        "  def current_state(self):\n",
        "    return (self.i, self.j)\n",
        "\n",
        "  def is_terminal(self, s):\n",
        "    return s not in self.actions\n",
        "\n",
        "  def stochastic_move(self, action):\n",
        "    p = np.random.random()\n",
        "    # 0.8 in our case\n",
        "    if p <= self.obey_prob:\n",
        "      return action\n",
        "    if action == 'U' or action == 'D':\n",
        "      # whatever left prob is divided equally, so 0.1, 0.1\n",
        "      return np.random.choice(['L', 'R'])\n",
        "    elif action == 'L' or action == 'R':\n",
        "      return np.random.choice(['U', 'D'])\n",
        "\n",
        "  def move(self, action):\n",
        "    actual_action = self.stochastic_move(action)\n",
        "    if actual_action in self.actions[(self.i, self.j)]:\n",
        "      if actual_action == 'U':\n",
        "        self.i -= 1\n",
        "      elif actual_action == 'D':\n",
        "        self.i += 1\n",
        "      elif actual_action == 'R':\n",
        "        self.j += 1\n",
        "      elif actual_action == 'L':\n",
        "        self.j -= 1\n",
        "    return self.rewards.get((self.i, self.j), 0)\n",
        "\n",
        "  def check_move(self, action):\n",
        "    i = self.i\n",
        "    j = self.j\n",
        "    # check if legal move first\n",
        "    if action in self.actions[(self.i, self.j)]:\n",
        "      if action == 'U':\n",
        "        i -= 1\n",
        "      elif action == 'D':\n",
        "        i += 1\n",
        "      elif action == 'R':\n",
        "        j += 1\n",
        "      elif action == 'L':\n",
        "        j -= 1\n",
        "    # return a reward (if any)\n",
        "    reward = self.rewards.get((i, j), 0)\n",
        "    return ((i, j), reward)\n",
        "\n",
        "  def game_over(self):\n",
        "    return (self.i, self.j) not in self.actions\n",
        "\n",
        "  def all_states(self):\n",
        "    # possibly buggy but simple way to get all states\n",
        "    # either a position that has possible next actions\n",
        "    # or a position that yields a reward\n",
        "    return set(self.actions.keys()) | set(self.rewards.keys())\n",
        "  \n",
        "def standard_grid(obey_prob=1.0, step_cost=None):\n",
        "  # define a grid that describes the reward for arriving at each state\n",
        "  # and possible actions at each state\n",
        "  # the grid looks like this\n",
        "  # x means you can't go there\n",
        "  # s means start position\n",
        "  # number means reward at that state\n",
        "  # .  .  .  1\n",
        "  # .  x  . -1\n",
        "  # s  .  .  .\n",
        "  # obey_brob (float): the probability of obeying the command\n",
        "  # step_cost (float): a penalty applied each step to minimize the number of moves (-0.1)\n",
        "  rewards = {(0, 3): 1, (1, 3): -1}\n",
        "  actions = {\n",
        "    (0, 0): ('D', 'R'),\n",
        "    (0, 1): ('L', 'R'),\n",
        "    (0, 2): ('L', 'D', 'R'),\n",
        "    (1, 0): ('U', 'D'),\n",
        "    (1, 2): ('U', 'D', 'R'),\n",
        "    (2, 0): ('U', 'R'),\n",
        "    (2, 1): ('L', 'R'),\n",
        "    (2, 2): ('L', 'R', 'U'),\n",
        "    (2, 3): ('L', 'U'),\n",
        "  }\n",
        "  # g.set(rewards, actions, obey_prob)\n",
        "  if step_cost is not None:\n",
        "    rewards.update({\n",
        "      (0, 0): step_cost,\n",
        "      (0, 1): step_cost,\n",
        "      (0, 2): step_cost,\n",
        "      (1, 0): step_cost,\n",
        "      (1, 2): step_cost,\n",
        "      (2, 0): step_cost,\n",
        "      (2, 1): step_cost,\n",
        "      (2, 2): step_cost,\n",
        "      (2, 3): step_cost,\n",
        "    })\n",
        "  return Grid(3, 4, (2, 0), actions, rewards, obey_prob=0.8)\n",
        "\n",
        "# standard_grid(0.8, -0.4)"
      ],
      "execution_count": null,
      "outputs": []
    },
    {
      "cell_type": "code",
      "metadata": {
        "id": "18XWX6GG6ktV"
      },
      "source": [
        "class Agent:\n",
        "  def __init__(self, grid):\n",
        "    self.grid = grid\n",
        "  def makeMove(self):\n",
        "    moves = ['R', 'L', 'U', 'D'] # 0.25 for each\n",
        "    iterations = 100\n",
        "    R = []\n",
        "    R_avg = [0]\n",
        "    for i in range(1, iterations+1):\n",
        "      reward = 0\n",
        "      while not self.grid.is_terminal(self.grid.current_state()):\n",
        "        action = np.random.choice(moves)\n",
        "        reward += self.grid.move(action)\n",
        "        # print(f'reward:: {reward}, new place {self.grid.current_state()}')\n",
        "      self.grid.resetToStart()\n",
        "      R.append(reward)\n",
        "      R_avg.append((R_avg[i-1]*(i-1) + reward)/i)\n",
        "    plt.plot(R_avg)\n",
        "    plt.show()\n",
        "    plt.plot(R)\n",
        "    plt.show()"
      ],
      "execution_count": null,
      "outputs": []
    },
    {
      "cell_type": "code",
      "metadata": {
        "colab": {
          "base_uri": "https://localhost:8080/",
          "height": 513
        },
        "id": "lExqRTfY7GUY",
        "outputId": "d32a79a3-3fff-492a-894a-bae9ba46160d"
      },
      "source": [
        "z = standard_grid(0.8, -0.04)\n",
        "a = Agent(z)\n",
        "a.makeMove()"
      ],
      "execution_count": null,
      "outputs": [
        {
          "output_type": "display_data",
          "data": {
            "image/png": "[encoded data removed]",
            "text/plain": [
              "<Figure size 432x288 with 1 Axes>"
            ]
          },
          "metadata": {
            "tags": [],
            "needs_background": "light"
          }
        },
        {
          "output_type": "display_data",
          "data": {
            "image/png": "[encoded data removed]",
            "text/plain": [
              "<Figure size 432x288 with 1 Axes>"
            ]
          },
          "metadata": {
            "tags": [],
            "needs_background": "light"
          }
        }
      ]
    },
    {
      "cell_type": "code",
      "metadata": {
        "colab": {
          "base_uri": "https://localhost:8080/"
        },
        "id": "3oHNJgnq9lIK",
        "outputId": "c0fa12fa-8ded-4b9d-cb73-b08c8199fbed"
      },
      "source": [
        "(2,1) == (2,1)"
      ],
      "execution_count": null,
      "outputs": [
        {
          "output_type": "execute_result",
          "data": {
            "text/plain": [
              "True"
            ]
          },
          "metadata": {
            "tags": []
          },
          "execution_count": 21
        }
      ]
    }
  ]
}