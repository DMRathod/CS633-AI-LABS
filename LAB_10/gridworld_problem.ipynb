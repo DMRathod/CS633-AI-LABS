{
  "nbformat": 4,
  "nbformat_minor": 0,
  "metadata": {
    "colab": {
      "name": "gridworld_problem.ipynb",
      "provenance": [],
      "collapsed_sections": []
    },
    "kernelspec": {
      "name": "python3",
      "display_name": "Python 3"
    },
    "language_info": {
      "name": "python"
    }
  },
  "cells": [
    {
      "cell_type": "code",
      "metadata": {
        "id": "bJGV8u3ZSnlz"
      },
      "source": [
        "import numpy as np\n",
        "\n",
        "class Grid: # Environment\n",
        "  def __init__(self, width, height, start):\n",
        "    # i is vertical axis, j is horizontal\n",
        "    self.width = width\n",
        "    self.height = height\n",
        "    self.i = start[0]\n",
        "    self.j = start[1]\n",
        "\n",
        "  def set(self, rewards, actions, obey_prob):\n",
        "    # rewards should be a dict of: (i, j): r (row, col): reward\n",
        "    # actions should be a dict of: (i, j): A (row, col): list of possible actions\n",
        "    self.rewards = rewards\n",
        "    self.actions = actions\n",
        "    self.obey_prob = obey_prob\n",
        "\n",
        "  def non_terminal_states(self):\n",
        "    return self.actions.keys()\n",
        "\n",
        "  def set_state(self, s):\n",
        "    self.i = s[0]\n",
        "    self.j = s[1]\n",
        "\n",
        "  def current_state(self):\n",
        "    return (self.i, self.j)\n",
        "\n",
        "  def is_terminal(self, s):\n",
        "    return s not in self.actions\n",
        "\n",
        "  def stochastic_move(self, action):\n",
        "    p = np.random.random()\n",
        "    if p <= self.obey_prob:\n",
        "      return action\n",
        "    if action == 'U' or action == 'D':\n",
        "      return np.random.choice(['L', 'R'])\n",
        "    elif action == 'L' or action == 'R':\n",
        "      return np.random.choice(['U', 'D'])\n",
        "\n",
        "  def move(self, action):\n",
        "    actual_action = self.stochastic_move(action)\n",
        "    if actual_action in self.actions[(self.i, self.j)]:\n",
        "      if actual_action == 'U':\n",
        "        self.i -= 1\n",
        "      elif actual_action == 'D':\n",
        "        self.i += 1\n",
        "      elif actual_action == 'R':\n",
        "        self.j += 1\n",
        "      elif actual_action == 'L':\n",
        "        self.j -= 1\n",
        "    return self.rewards.get((self.i, self.j), 0)\n",
        "\n",
        "  def check_move(self, action):\n",
        "    i = self.i\n",
        "    j = self.j\n",
        "    # check if legal move first\n",
        "    if action in self.actions[(self.i, self.j)]:\n",
        "      if action == 'U':\n",
        "        i -= 1\n",
        "      elif action == 'D':\n",
        "        i += 1\n",
        "      elif action == 'R':\n",
        "        j += 1\n",
        "      elif action == 'L':\n",
        "        j -= 1\n",
        "    # return a reward (if any)\n",
        "    reward = self.rewards.get((i, j), 0)\n",
        "    return ((i, j), reward)\n",
        "\n",
        "  def get_transition_probs(self, action):\n",
        "    # returns a list of (probability, reward, s') transition tuples\n",
        "    probs = []\n",
        "    state, reward = self.check_move(action)\n",
        "    probs.append((self.obey_prob, reward, state))\n",
        "    disobey_prob = 1 - self.obey_prob\n",
        "    if not (disobey_prob > 0.0):\n",
        "      return probs\n",
        "    if action == 'U' or action == 'D':\n",
        "      state, reward = self.check_move('L')\n",
        "      probs.append((disobey_prob / 2, reward, state))\n",
        "      state, reward = self.check_move('R')\n",
        "      probs.append((disobey_prob / 2, reward, state))\n",
        "    elif action == 'L' or action == 'R':\n",
        "      state, reward = self.check_move('U')\n",
        "      probs.append((disobey_prob / 2, reward, state))\n",
        "      state, reward = self.check_move('D')\n",
        "      probs.append((disobey_prob / 2, reward, state))\n",
        "    return probs\n",
        "\n",
        "  def game_over(self):\n",
        "\n",
        "    return (self.i, self.j) not in self.actions\n",
        "\n",
        "  def all_states(self):\n",
        "    # possibly buggy but simple way to get all states\n",
        "    # either a position that has possible next actions\n",
        "    # or a position that yields a reward\n",
        "    return set(self.actions.keys()) | set(self.rewards.keys())\n",
        "\n",
        "\n",
        "def standard_grid(obey_prob=1.0, step_cost=None):\n",
        "  g = Grid(3, 4, (2, 0))\n",
        "  rewards = {(0, 3): 1, (1, 3): -1}\n",
        "  actions = {\n",
        "    (0, 0): ('D', 'R'),\n",
        "    (0, 1): ('L', 'R'),\n",
        "    (0, 2): ('L', 'D', 'R'),\n",
        "    (1, 0): ('U', 'D'),\n",
        "    (1, 2): ('U', 'D', 'R'),\n",
        "    (2, 0): ('U', 'R'),\n",
        "    (2, 1): ('L', 'R'),\n",
        "    (2, 2): ('L', 'R', 'U'),\n",
        "    (2, 3): ('L', 'U'),\n",
        "  }\n",
        "  g.set(rewards, actions, obey_prob)\n",
        "  if step_cost is not None:\n",
        "    g.rewards.update({\n",
        "      (0, 0): step_cost,\n",
        "      (0, 1): step_cost,\n",
        "      (0, 2): step_cost,\n",
        "      (1, 0): step_cost,\n",
        "      (1, 2): step_cost,\n",
        "      (2, 0): step_cost,\n",
        "      (2, 1): step_cost,\n",
        "      (2, 2): step_cost,\n",
        "      (2, 3): step_cost,\n",
        "    })\n",
        "  return g"
      ],
      "execution_count": null,
      "outputs": []
    },
    {
      "cell_type": "code",
      "metadata": {
        "id": "4CJ-IDo5g2Hf",
        "colab": {
          "base_uri": "https://localhost:8080/"
        },
        "outputId": "b30e35dc-cea8-4537-b6d5-7a6394a89d21"
      },
      "source": [
        "# now just for check make object of Grid\n",
        "grid = standard_grid(0.8,-0.4)\n",
        "print(grid.all_states())\n",
        "print(grid.non_terminal_states())"
      ],
      "execution_count": null,
      "outputs": [
        {
          "output_type": "stream",
          "text": [
            "{(0, 0), (1, 3), (2, 1), (2, 3), (1, 0), (0, 3), (0, 1), (1, 2), (2, 0), (2, 2), (0, 2)}\n",
            "dict_keys([(0, 0), (0, 1), (0, 2), (1, 0), (1, 2), (2, 0), (2, 1), (2, 2), (2, 3)])\n"
          ],
          "name": "stdout"
        }
      ]
    },
    {
      "cell_type": "code",
      "metadata": {
        "id": "BLlE9BnghJLW"
      },
      "source": [
        "SMALL_ENOUGH = 1e-3\n",
        "GAMMA = 1\n",
        "ALL_POSSIBLE_ACTIONS = ('U', 'D', 'L', 'R')\n",
        "\n",
        "def print_values(V, g):\n",
        "  for i in range(g.width):\n",
        "    print(\"---------------------------\")\n",
        "    for j in range(g.height):\n",
        "      v = V.get((i,j), 0)\n",
        "      if v >= 0:\n",
        "        print(\" %.2f|\" % v, end=\"\")\n",
        "      else:\n",
        "        print(\"%.2f|\" % v, end=\"\") # -ve sign takes up an extra space\n",
        "    print(\"\")\n",
        "\n",
        "def best_action_value(grid, V, s):\n",
        "  # finds the highest value action (max_a) from state s, returns the action and value\n",
        "  best_a = None\n",
        "  best_value = float('-inf')\n",
        "  grid.set_state(s)\n",
        "  # loop through all possible actions to find the best current action\n",
        "  for a in ALL_POSSIBLE_ACTIONS:\n",
        "    transititions = grid.get_transition_probs(a)\n",
        "    expected_v = 0\n",
        "    expected_r = 0\n",
        "    for (prob, r, state_prime) in transititions:\n",
        "      expected_r += prob * r\n",
        "      expected_v += prob * V[state_prime]\n",
        "    v = expected_r + GAMMA * expected_v\n",
        "    if v > best_value:\n",
        "      best_value = v\n",
        "      best_a = a\n",
        "  return best_a, best_value\n",
        "\n",
        "def calculate_values(grid):\n",
        "  # initialize V(s)\n",
        "  V = {}\n",
        "  states = grid.all_states()\n",
        "  for s in states:\n",
        "    V[s] = 0\n",
        "\n",
        "  iteration = 0\n",
        "  while (iteration<=100000):\n",
        "    # biggest_change is referred to by the mathematical symbol delta in equations\n",
        "    biggest_change = 0\n",
        "    state_with_action = grid.non_terminal_states()\n",
        "    # print(\"Inside problem\")\n",
        "    # print(state_with_action)\n",
        "    # count = 0\n",
        "    for s in state_with_action:\n",
        "      # previous = biggest_change\n",
        "      old_v = V[s]\n",
        "      _, new_v = best_action_value(grid, V, s)\n",
        "      V[s] = new_v\n",
        "      biggest_change = max(biggest_change, np.abs(old_v - new_v))\n",
        "    iteration+= 1\n",
        "    if (biggest_change < SMALL_ENOUGH):\n",
        "      print(\"Biggest Change\", biggest_change)\n",
        "      break\n",
        "  return V\n"
      ],
      "execution_count": 79,
      "outputs": []
    },
    {
      "cell_type": "code",
      "metadata": {
        "colab": {
          "base_uri": "https://localhost:8080/"
        },
        "id": "-bmoIVRmlz0M",
        "outputId": "d47695e7-38ea-4c74-c711-da2ec921c657"
      },
      "source": [
        "grid = standard_grid(obey_prob=0.8, step_cost=-0.04)\n",
        "# print rewards\n",
        "print(\"rewards:\")\n",
        "print_values(grid.rewards,grid)\n",
        "\n",
        "# calculate accurate values for each square\n",
        "V = calculate_values(grid)\n",
        "\n",
        "# print values\n",
        "print(\"values regarding reward for each state remaining goal state is -0.04:\")\n",
        "print_values(V, grid)"
      ],
      "execution_count": null,
      "outputs": [
        {
          "output_type": "stream",
          "text": [
            "rewards:\n",
            "---------------------------\n",
            "-0.04|-0.04|-0.04| 1.00|\n",
            "---------------------------\n",
            "-0.04| 0.00|-0.04|-1.00|\n",
            "---------------------------\n",
            "-0.04|-0.04|-0.04|-0.04|\n",
            "values regarding reward for each state remaining goal state is -0.04:\n",
            "---------------------------\n",
            " 0.85| 0.91| 0.96| 0.00|\n",
            "---------------------------\n",
            " 0.80| 0.00| 0.70| 0.00|\n",
            "---------------------------\n",
            " 0.75| 0.70| 0.65| 0.43|\n"
          ],
          "name": "stdout"
        }
      ]
    },
    {
      "cell_type": "code",
      "metadata": {
        "colab": {
          "base_uri": "https://localhost:8080/"
        },
        "id": "MEe9zmd5j5ks",
        "outputId": "d0819470-2bce-41f6-b12d-17076781fca7"
      },
      "source": [
        "grid = standard_grid(obey_prob=0.8, step_cost=-2)\n",
        "# print rewards\n",
        "print(\"rewards:\")\n",
        "print_values(grid.rewards,grid)\n",
        "\n",
        "# calculate accurate values for each square\n",
        "V = calculate_values(grid)\n",
        "\n",
        "# print values\n",
        "print(\"values regarding reward for each state remaining goal state is -2:\")\n",
        "print_values(V, grid)"
      ],
      "execution_count": null,
      "outputs": [
        {
          "output_type": "stream",
          "text": [
            "rewards:\n",
            "---------------------------\n",
            "-2.00|-2.00|-2.00| 1.00|\n",
            "---------------------------\n",
            "-2.00| 0.00|-2.00|-1.00|\n",
            "---------------------------\n",
            "-2.00|-2.00|-2.00|-2.00|\n",
            "values regarding reward for each state remaining goal state is -2:\n",
            "---------------------------\n",
            "-5.04|-2.23| 0.27| 0.00|\n",
            "---------------------------\n",
            "-7.54| 0.00|-1.57| 0.00|\n",
            "---------------------------\n",
            "-8.82|-6.47|-3.97|-1.77|\n"
          ],
          "name": "stdout"
        }
      ]
    },
    {
      "cell_type": "code",
      "metadata": {
        "colab": {
          "base_uri": "https://localhost:8080/"
        },
        "id": "0lRWxEPWt3M1",
        "outputId": "0aac9628-03f2-45ba-f3d9-394fa03c339c"
      },
      "source": [
        "grid = standard_grid(obey_prob=0.8, step_cost=0.1)\n",
        "# print rewards\n",
        "print(\"rewards:\")\n",
        "print_values(grid.rewards,grid)\n",
        "\n",
        "# calculate accurate values for each square\n",
        "V = calculate_values(grid)\n",
        "\n",
        "# print values\n",
        "print(\"values regarding reward for each state remaining goal state is 0.1:\")\n",
        "print_values(V, grid)"
      ],
      "execution_count": 76,
      "outputs": [
        {
          "output_type": "stream",
          "text": [
            "rewards:\n",
            "---------------------------\n",
            " 0.10| 0.10| 0.10| 1.00|\n",
            "---------------------------\n",
            " 0.10| 0.00| 0.10|-1.00|\n",
            "---------------------------\n",
            " 0.10| 0.10| 0.10| 0.10|\n",
            "values regarding reward for each state remaining goal state is 0.1:\n",
            "---------------------------\n",
            " 1735.27| 1735.36| 1735.41| 0.00|\n",
            "---------------------------\n",
            " 1735.36| 0.00| 1735.22| 0.00|\n",
            "---------------------------\n",
            " 1735.45| 1735.53| 1735.59| 1735.03|\n"
          ],
          "name": "stdout"
        }
      ]
    },
    {
      "cell_type": "code",
      "metadata": {
        "id": "gux0BnhquFKk",
        "colab": {
          "base_uri": "https://localhost:8080/"
        },
        "outputId": "d2f35cb0-75e2-4523-c849-c83edc23c6e8"
      },
      "source": [
        "grid = standard_grid(obey_prob=0.8, step_cost=0.02)\n",
        "# print rewards\n",
        "print(\"rewards:\")\n",
        "print_values(grid.rewards,grid)\n",
        "\n",
        "# calculate accurate values for each square\n",
        "V = calculate_values(grid)\n",
        "\n",
        "# print values\n",
        "print(\"values regarding reward for each state remaining goal state is 0.02:\")\n",
        "print_values(V, grid)"
      ],
      "execution_count": 80,
      "outputs": [
        {
          "output_type": "stream",
          "text": [
            "rewards:\n",
            "---------------------------\n",
            " 0.02| 0.02| 0.02| 1.00|\n",
            "---------------------------\n",
            " 0.02| 0.00| 0.02|-1.00|\n",
            "---------------------------\n",
            " 0.02| 0.02| 0.02| 0.02|\n",
            "values regarding reward for each state remaining goal state is 0.02:\n",
            "---------------------------\n",
            " 3470.23| 3470.25| 3470.26| 0.00|\n",
            "---------------------------\n",
            " 3470.25| 0.00| 3470.22| 0.00|\n",
            "---------------------------\n",
            " 3470.27| 3470.29| 3470.30| 3470.18|\n"
          ],
          "name": "stdout"
        }
      ]
    },
    {
      "cell_type": "code",
      "metadata": {
        "id": "NCg65z6lvoRN",
        "colab": {
          "base_uri": "https://localhost:8080/"
        },
        "outputId": "adad0cfa-329a-4fcc-9718-6ce113a4c898"
      },
      "source": [
        "grid = standard_grid(obey_prob=0.8, step_cost=1)\n",
        "# print rewards\n",
        "print(\"rewards:\")\n",
        "print_values(grid.rewards,grid)\n",
        "\n",
        "# calculate accurate values for each square\n",
        "V = calculate_values(grid)\n",
        "\n",
        "# print values\n",
        "print(\"values regarding reward for each state remaining goal state is 1:\")\n",
        "print_values(V, grid)"
      ],
      "execution_count": 81,
      "outputs": [
        {
          "output_type": "stream",
          "text": [
            "rewards:\n",
            "---------------------------\n",
            " 1.00| 1.00| 1.00| 1.00|\n",
            "---------------------------\n",
            " 1.00| 0.00| 1.00|-1.00|\n",
            "---------------------------\n",
            " 1.00| 1.00| 1.00| 1.00|\n",
            "values regarding reward for each state remaining goal state is 1:\n",
            "---------------------------\n",
            " 173470.37| 173471.19| 173471.76| 0.00|\n",
            "---------------------------\n",
            " 173471.19| 0.00| 173469.82| 0.00|\n",
            "---------------------------\n",
            " 173472.11| 173472.92| 173473.50| 173467.89|\n"
          ],
          "name": "stdout"
        }
      ]
    }
  ]
}